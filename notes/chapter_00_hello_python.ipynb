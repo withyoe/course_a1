{
 "cells": [
  {
   "cell_type": "markdown",
   "metadata": {},
   "source": [
    "# Hello Python!"
   ]
  },
  {
   "cell_type": "markdown",
   "metadata": {},
   "source": [
    "Ini adalah tutorial AI WithYoe - Hello Python!\n",
    "\n",
    "Tidak seperti biasa tutorial programming biasanya dimulai dengan membuat tulisan Hello World! 😀 tapi itu terlalu simple, dan kurang menarik. \n",
    "Yuk kita buat digital art dengan python. Ketik perintah-perintah dibawah ini, dan pastikan kalian berhasil memunculkan sesuai dengan layar."
   ]
  },
  {
   "cell_type": "code",
   "execution_count": 1,
   "metadata": {},
   "outputs": [
    {
     "ename": "Terminator",
     "evalue": "",
     "output_type": "error",
     "traceback": [
      "\u001b[0;31m---------------------------------------------------------------------------\u001b[0m",
      "\u001b[0;31mTerminator\u001b[0m                                Traceback (most recent call last)",
      "\u001b[1;32m/Users/zivlab/learning/python/withyoe/day1/chapter_00_hello_python.ipynb Cell 3'\u001b[0m in \u001b[0;36m<cell line: 15>\u001b[0;34m()\u001b[0m\n\u001b[1;32m     <a href='vscode-notebook-cell:/Users/zivlab/learning/python/withyoe/day1/chapter_00_hello_python.ipynb#ch0000002?line=15'>16</a>\u001b[0m pen\u001b[39m.\u001b[39mpencolor(colors[x\u001b[39m%\u001b[39m\u001b[39mlen\u001b[39m(colors)])\n\u001b[1;32m     <a href='vscode-notebook-cell:/Users/zivlab/learning/python/withyoe/day1/chapter_00_hello_python.ipynb#ch0000002?line=16'>17</a>\u001b[0m pen\u001b[39m.\u001b[39mforward(x \u001b[39m+\u001b[39m \u001b[39m1\u001b[39m)\n\u001b[0;32m---> <a href='vscode-notebook-cell:/Users/zivlab/learning/python/withyoe/day1/chapter_00_hello_python.ipynb#ch0000002?line=17'>18</a>\u001b[0m pen\u001b[39m.\u001b[39;49mleft(\u001b[39m59\u001b[39;49m)\n",
      "File \u001b[0;32m~/opt/miniconda3/envs/withyoe_env/lib/python3.9/turtle.py:1700\u001b[0m, in \u001b[0;36mTNavigator.left\u001b[0;34m(self, angle)\u001b[0m\n\u001b[1;32m   1681\u001b[0m \u001b[39mdef\u001b[39;00m \u001b[39mleft\u001b[39m(\u001b[39mself\u001b[39m, angle):\n\u001b[1;32m   1682\u001b[0m     \u001b[39m\"\"\"Turn turtle left by angle units.\u001b[39;00m\n\u001b[1;32m   1683\u001b[0m \n\u001b[1;32m   1684\u001b[0m \u001b[39m    Aliases: left | lt\u001b[39;00m\n\u001b[0;32m   (...)\u001b[0m\n\u001b[1;32m   1698\u001b[0m \u001b[39m    67.0\u001b[39;00m\n\u001b[1;32m   1699\u001b[0m \u001b[39m    \"\"\"\u001b[39;00m\n\u001b[0;32m-> 1700\u001b[0m     \u001b[39mself\u001b[39;49m\u001b[39m.\u001b[39;49m_rotate(angle)\n",
      "File \u001b[0;32m~/opt/miniconda3/envs/withyoe_env/lib/python3.9/turtle.py:3280\u001b[0m, in \u001b[0;36mRawTurtle._rotate\u001b[0;34m(self, angle)\u001b[0m\n\u001b[1;32m   3278\u001b[0m         \u001b[39mself\u001b[39m\u001b[39m.\u001b[39m_update()\n\u001b[1;32m   3279\u001b[0m \u001b[39mself\u001b[39m\u001b[39m.\u001b[39m_orient \u001b[39m=\u001b[39m neworient\n\u001b[0;32m-> 3280\u001b[0m \u001b[39mself\u001b[39;49m\u001b[39m.\u001b[39;49m_update()\n",
      "File \u001b[0;32m~/opt/miniconda3/envs/withyoe_env/lib/python3.9/turtle.py:2661\u001b[0m, in \u001b[0;36mRawTurtle._update\u001b[0;34m(self)\u001b[0m\n\u001b[1;32m   2659\u001b[0m     \u001b[39mreturn\u001b[39;00m\n\u001b[1;32m   2660\u001b[0m \u001b[39melif\u001b[39;00m screen\u001b[39m.\u001b[39m_tracing \u001b[39m==\u001b[39m \u001b[39m1\u001b[39m:\n\u001b[0;32m-> 2661\u001b[0m     \u001b[39mself\u001b[39;49m\u001b[39m.\u001b[39;49m_update_data()\n\u001b[1;32m   2662\u001b[0m     \u001b[39mself\u001b[39m\u001b[39m.\u001b[39m_drawturtle()\n\u001b[1;32m   2663\u001b[0m     screen\u001b[39m.\u001b[39m_update()                  \u001b[39m# TurtleScreenBase\u001b[39;00m\n",
      "File \u001b[0;32m~/opt/miniconda3/envs/withyoe_env/lib/python3.9/turtle.py:2647\u001b[0m, in \u001b[0;36mRawTurtle._update_data\u001b[0;34m(self)\u001b[0m\n\u001b[1;32m   2646\u001b[0m \u001b[39mdef\u001b[39;00m \u001b[39m_update_data\u001b[39m(\u001b[39mself\u001b[39m):\n\u001b[0;32m-> 2647\u001b[0m     \u001b[39mself\u001b[39;49m\u001b[39m.\u001b[39;49mscreen\u001b[39m.\u001b[39;49m_incrementudc()\n\u001b[1;32m   2648\u001b[0m     \u001b[39mif\u001b[39;00m \u001b[39mself\u001b[39m\u001b[39m.\u001b[39mscreen\u001b[39m.\u001b[39m_updatecounter \u001b[39m!=\u001b[39m \u001b[39m0\u001b[39m:\n\u001b[1;32m   2649\u001b[0m         \u001b[39mreturn\u001b[39;00m\n",
      "File \u001b[0;32m~/opt/miniconda3/envs/withyoe_env/lib/python3.9/turtle.py:1293\u001b[0m, in \u001b[0;36mTurtleScreen._incrementudc\u001b[0;34m(self)\u001b[0m\n\u001b[1;32m   1291\u001b[0m \u001b[39mif\u001b[39;00m \u001b[39mnot\u001b[39;00m TurtleScreen\u001b[39m.\u001b[39m_RUNNING:\n\u001b[1;32m   1292\u001b[0m     TurtleScreen\u001b[39m.\u001b[39m_RUNNING \u001b[39m=\u001b[39m \u001b[39mTrue\u001b[39;00m\n\u001b[0;32m-> 1293\u001b[0m     \u001b[39mraise\u001b[39;00m Terminator\n\u001b[1;32m   1294\u001b[0m \u001b[39mif\u001b[39;00m \u001b[39mself\u001b[39m\u001b[39m.\u001b[39m_tracing \u001b[39m>\u001b[39m \u001b[39m0\u001b[39m:\n\u001b[1;32m   1295\u001b[0m     \u001b[39mself\u001b[39m\u001b[39m.\u001b[39m_updatecounter \u001b[39m+\u001b[39m\u001b[39m=\u001b[39m \u001b[39m1\u001b[39m\n",
      "\u001b[0;31mTerminator\u001b[0m: "
     ]
    }
   ],
   "source": [
    "import turtle\n",
    "\n",
    "colors=['red','purple','blue','cyan','green','yellow','orange']\n",
    "\n",
    "# ambil object Turtle dan assign ke variable kurakura\n",
    "kurakura = turtle.Turtle()\n",
    "\n",
    "# setiap kura-kura berjalan akan meninggalkan jejak, dan jejak tersebut seperti pen, dan dapat di setting melalui object Pen()\n",
    "pen = turtle.Pen()\n",
    "pen.pensize(3)\n",
    "\n",
    "# beri warna background di environment turtle dengan biru\n",
    "turtle.bgcolor(\"blue\")\n",
    "\n",
    "for x in range(300):\n",
    "    pen.pencolor(colors[x%len(colors)])\n",
    "    pen.forward(x + 1)\n",
    "    pen.left(59)\n"
   ]
  },
  {
   "cell_type": "markdown",
   "metadata": {},
   "source": [
    "Jika berhasil kalian akan melihat satu window baru terbuka, dan ada benda menyerupai ujung pena (sebut saja itu turtle) yang bergerak membuat semacam sarang laba-laba.\n",
    "\n",
    "Secara tidak kalian sadari, kalian telah membuat 1 program python sederhana. Dari aplikasi diatas kalian telah memakai operator, variable, perulangan, list, dan juga memanfaatkan fungsi graphics."
   ]
  },
  {
   "cell_type": "markdown",
   "metadata": {},
   "source": [
    " <img src=\"images/chapter_00_01.png\" widht=\"300\" height=\"300\" />"
   ]
  },
  {
   "cell_type": "markdown",
   "metadata": {},
   "source": [
    "# Dokumentasi Methods di Turtle"
   ]
  },
  {
   "cell_type": "markdown",
   "metadata": {},
   "source": [
    "|Method|Parameter|Deskripsi|\n",
    "|---|---|---|\n",
    "| Turtle() | None | Membuat object turtle baru |\n",
    "| goto()| (x,y) | Mengarahkan turtle ke koordinat tertentu (tanpa meninggalkan jejak)|\n",
    "| forward() | amount | Berjalan maju beberapa langkah |\n",
    "| backward() | amount | Jalan mundur beberapa langkah |\n",
    "| right() | angle | Merubah arah kura-kura searah jarum jam |\n",
    "| left() | angle | Merubah arah kura-kura berlawanan jarum jam |\n",
    "| penup() | None | Menaikkan pena |\n",
    "| pendown() | None | Menurunkan pena |\n",
    "| up() | None | Menaikkan pena |\n",
    "| down() | None | Memenurunkan pena |\n",
    "| fillcolor() | Nama Warna atau rgb | Untuk mewarnai bentuk polygon |\n",
    "| heading() | None | Mengembalikan posisi arah pena |\n",
    "| position() | None | Mengembalikan posisi sekarang |\n",
    "| goto() | x,y | Memindahkan kura-kura ke posisin x dan y |\n",
    "| begin_fill() | None | Memulai posisi untuk mengisi polygon |\n",
    "| end_fill() | None | Mengakhiri pengisian warna di posisi sekarang |\n",
    "| dot() | None | Meninggalkan titik di posisi sekarang |\n",
    "| stamp() | None | Meninggalkan jejak kura-kura di posisi sekarang |\n",
    "| shape() | nama shape | merubah bentuk kura-kura, dapat di isi dengan 'arrow', 'classic', 'turtle', 'circle' |\n",
    "| pos() | None | mengetahui posisi dari turtle saat ini |\n"
   ]
  },
  {
   "cell_type": "markdown",
   "metadata": {},
   "source": [
    "Versi lengkap dokumentasi Turtle dapat dilihat disini \n",
    "\n",
    "https://docs.python.org/3/library/turtle.html#methods-of-turtlescreen-screen"
   ]
  },
  {
   "cell_type": "markdown",
   "metadata": {},
   "source": [
    "# Contoh Penggunaan Fungsi-Fungsi Diatas"
   ]
  },
  {
   "cell_type": "markdown",
   "metadata": {},
   "source": [
    "## Kotak"
   ]
  },
  {
   "cell_type": "code",
   "execution_count": 1,
   "metadata": {},
   "outputs": [],
   "source": [
    "import turtle\n",
    "\n",
    "t = turtle.Turtle()\n",
    "\n",
    "t.pencolor('blue')\n",
    "\n",
    "# menggambar kotak persegi\n",
    "t.forward(100)\n",
    "t.right(90)\n",
    "t.forward(100)\n",
    "t.right(90)\n",
    "t.forward(100)\n",
    "t.right(90)\n",
    "t.forward(100)"
   ]
  },
  {
   "cell_type": "markdown",
   "metadata": {},
   "source": [
    "## Segitiga"
   ]
  },
  {
   "cell_type": "code",
   "execution_count": 2,
   "metadata": {},
   "outputs": [],
   "source": [
    "import turtle\n",
    "\n",
    "t = turtle.Turtle()\n",
    "\n",
    "# menggambar lingkaran\n",
    "t.pencolor('red')\n",
    "t.reset()\n",
    "t.fillcolor('red')\n",
    "t.begin_fill()\n",
    "t.left(120)\n",
    "t.forward(100)\n",
    "t.right(120)\n",
    "t.forward(100)\n",
    "t.right(120)\n",
    "t.forward(100)\n",
    "t.end_fill()\n"
   ]
  },
  {
   "cell_type": "markdown",
   "metadata": {},
   "source": [
    "## Lingkaran"
   ]
  },
  {
   "cell_type": "code",
   "execution_count": 1,
   "metadata": {},
   "outputs": [],
   "source": [
    "import turtle\n",
    "\n",
    "t = turtle.Turtle()\n",
    "turtle.reset()\n",
    "\n",
    "# menggambar lingkaran\n",
    "t.pencolor('red')\n",
    "t.reset()\n",
    "t.fillcolor('red')\n",
    "t.begin_fill()\n",
    "t.circle(50)\n",
    "t.end_fill()\n"
   ]
  },
  {
   "cell_type": "markdown",
   "metadata": {},
   "source": [
    "# Challenges / Latihan"
   ]
  },
  {
   "cell_type": "markdown",
   "metadata": {},
   "source": [
    "Biar seru, coba kalian bikin pola seperti ini 👇🏻 post hasil codingan kalian di sosmed IG or TikTok, dan mention ig @yoe.vlog dan tiktok @withyoe, dan jangan lupa sertakan hashtag #aiwithyoe #pythonwithyoe #studywithyoe"
   ]
  },
  {
   "cell_type": "markdown",
   "metadata": {},
   "source": [
    "## Challenge 1"
   ]
  },
  {
   "cell_type": "markdown",
   "metadata": {},
   "source": [
    "<img src=\"images/chapter_00_02.png\" width=\"300\" height=\"300\">"
   ]
  },
  {
   "cell_type": "markdown",
   "metadata": {},
   "source": [
    "## Challenge 2"
   ]
  },
  {
   "cell_type": "markdown",
   "metadata": {},
   "source": [
    "Nah.. setelah berhasil membuat digital art seperti diatas, yuk.. kita coba membuat digital art yang lain. Dan kalian bisa post di sosmed dan mention saya, dan jangan lupa berikan hashtag #aiwithyoe #withyoe"
   ]
  },
  {
   "cell_type": "markdown",
   "metadata": {},
   "source": [
    "Jawaban Challenge 1"
   ]
  },
  {
   "cell_type": "code",
   "execution_count": 1,
   "metadata": {},
   "outputs": [],
   "source": [
    "import turtle\n",
    "\n",
    "colors=['purple','lightblue']\n",
    "\n",
    "# ambil object Turtle dan assign ke variable kurakura\n",
    "kurakura = turtle.Turtle()\n",
    "\n",
    "# set bentuk turtle menjadi kura-kura\n",
    "# turtle.shape(\"turtle\")\n",
    "\n",
    "# setiap kura-kura berjalan akan meninggalkan jejak, dan jejak tersebut seperti pen, dan dapat di setting melalui object Pen()\n",
    "pen = turtle.Pen()\n",
    "pen.pensize(4)\n",
    "\n",
    "# beri warna background di environment turtle dengan biru\n",
    "turtle.bgcolor(\"pink\")\n",
    "\n",
    "for x in range(150):\n",
    "    pen.pencolor(colors[x%len(colors)])\n",
    "    pen.forward(x)\n",
    "    pen.left(90)"
   ]
  },
  {
   "cell_type": "code",
   "execution_count": null,
   "metadata": {},
   "outputs": [],
   "source": []
  }
 ],
 "metadata": {
  "interpreter": {
   "hash": "73bee3515d53dbbd9e6c94862a85b82d5691871328a1a840f6b0af847bab0263"
  },
  "kernelspec": {
   "display_name": "Python 3.9.12 ('withyoe_env')",
   "language": "python",
   "name": "python3"
  },
  "language_info": {
   "codemirror_mode": {
    "name": "ipython",
    "version": 3
   },
   "file_extension": ".py",
   "mimetype": "text/x-python",
   "name": "python",
   "nbconvert_exporter": "python",
   "pygments_lexer": "ipython3",
   "version": "3.10.4"
  },
  "orig_nbformat": 4
 },
 "nbformat": 4,
 "nbformat_minor": 2
}
