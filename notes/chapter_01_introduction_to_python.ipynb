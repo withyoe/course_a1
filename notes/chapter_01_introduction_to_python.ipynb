{
 "cells": [
  {
   "cell_type": "markdown",
   "metadata": {},
   "source": [
    "<H1>Referensi Python</H1>"
   ]
  },
  {
   "cell_type": "markdown",
   "metadata": {},
   "source": [
    "Berikut adalah referensi python yang mendukung untuk pembelajaran AI (Artificial Intelligence) di channel youtube saya \"AI WithYoe\"\n",
    "\n",
    "https://www.youtube.com/c/withyoe"
   ]
  },
  {
   "cell_type": "markdown",
   "metadata": {},
   "source": [
    "# Python"
   ]
  },
  {
   "cell_type": "markdown",
   "metadata": {},
   "source": [
    "Python adalah salah satu bahasa pemrograman yang sudah dikembangkan selama lebih dari 25 tahun, dan sampai sekarang juga terus dikembangkan [1].\n",
    "\n",
    "Jika kalian tertarik untuk belajar AI, silahkan subscribe channel youtube AI WithYoe, dan follow note saya di 👇🏻\n",
    "\n",
    "**Link Referensi**:\n",
    "\n",
    "* https://note.com/withyoe (catatan / blog saya)\n",
    "* https://www.youtube.com/c/withyoe?sub_confirmation=1 (youtube channel saya yang membahas AI)\n",
    "* http://docs.python-guide.org/en/latest/intro/learning/ (referensi website pembalajaran python dalam bahasa Inggris)\n",
    "\n",
    "**Learning Python in Notebooks**:\n",
    "\n",
    "* http://mbakker7.github.io/exploratory_computing_with_python/\n",
    "\n",
    "This is handy to always have available for reference:\n",
    "\n",
    "**Python Dokumentasi Lengkap**:\n",
    "\n",
    "* https://docs.python.org/3.10/reference/\n"
   ]
  },
  {
   "cell_type": "markdown",
   "metadata": {},
   "source": [
    "## Syntax"
   ]
  },
  {
   "cell_type": "markdown",
   "metadata": {},
   "source": [
    "Syntax adalah daftar aturan dan daftar perintah yang dapat di proses oleh python ketika kode itu dijalankan. Syntax pada python:\n",
    "\n",
    "* Tidak menggunakan semicolon/titik koma (;) untuk mengakhir perinta yang biasanya di letakkan di akhir baris.\n",
    "* Untuk scope blok, tidak membutuhkan kurung kurawal, tetapi hanya butuh idention (spasi dari kiri).\n",
    "* untuk deklarasi variable tidak disebutkan tipe data, tetapi dari tipe data yang pertama kali di isikan ke variable tersebut.\n",
    "* Untuk string, tidak membedakan antara tanda petik satu (') dan tada petik dua (\")."
   ]
  },
  {
   "cell_type": "markdown",
   "metadata": {},
   "source": [
    "## Expression"
   ]
  },
  {
   "cell_type": "markdown",
   "metadata": {},
   "source": [
    "Expression adalah kombinasi operator dan operand (paramter) sehingga menghasilkan nilai yang berbeda. Expression dalam pembahasan artikel ini termasuk:\n",
    "\n",
    "* Variables\n",
    "* Function\n",
    "* Operator\n",
    "* Loop\n",
    "* Logic Control"
   ]
  },
  {
   "cell_type": "markdown",
   "metadata": {},
   "source": [
    "### Variables"
   ]
  },
  {
   "cell_type": "markdown",
   "metadata": {},
   "source": [
    "Adalah wadah untuk penyimpanan suatu nilai / data, nilai / data yang dapat disimpan di variable mempunyai tipe data, dan tipe data yang ada di python dapat berupa:\n",
    "\n",
    "* Numbers / Bilangan ( suatu nilai, baik nilai desimal atau non-desimal )\n",
    "* Strings (dapat berupa huruf dan *characters*)\n",
    "* Boolean (hanya terdiri dari *True* atau *False*, untuk menandakan suatu keadaan apakah on / benar / true, atau sebaliknya off / salah / false)\n",
    "* List dan Dictionary (dapat menyimpan banyak nilai/data, dan dictionary juga dapat menyimpan banyak nilai/data dengan index - seperti kamus)"
   ]
  },
  {
   "cell_type": "markdown",
   "metadata": {},
   "source": [
    "#### Tipe Data / Data Type"
   ]
  },
  {
   "cell_type": "markdown",
   "metadata": {},
   "source": [
    "* Numbers\n",
    "  * Integers (tidak bisa koma/desimal)\n",
    "  * Floating-point (bisa koma/desimal)\n",
    "  * Complex numbers (bisa menggunakan equation pangkat)\n",
    "* Strings\n",
    "* Boolean values\n",
    "* Lists and Dicts"
   ]
  },
  {
   "cell_type": "markdown",
   "metadata": {},
   "source": [
    "##### Numbers"
   ]
  },
  {
   "cell_type": "markdown",
   "metadata": {},
   "source": [
    "#contoh tipe data integer, dengan nilai positif/plus"
   ]
  },
  {
   "cell_type": "code",
   "execution_count": 34,
   "metadata": {
    "collapsed": false
   },
   "outputs": [
    {
     "data": {
      "text/plain": [
       "1"
      ]
     },
     "execution_count": 34,
     "metadata": {},
     "output_type": "execute_result"
    }
   ],
   "source": [
    "1"
   ]
  },
  {
   "cell_type": "markdown",
   "metadata": {},
   "source": [
    "#contoh tipe data integera, dengan nilai negatif/minus"
   ]
  },
  {
   "cell_type": "code",
   "execution_count": 17,
   "metadata": {
    "collapsed": false
   },
   "outputs": [
    {
     "data": {
      "text/plain": [
       "-3"
      ]
     },
     "execution_count": 17,
     "metadata": {},
     "output_type": "execute_result"
    }
   ],
   "source": [
    "-3"
   ]
  },
  {
   "cell_type": "markdown",
   "metadata": {},
   "source": [
    "#contoh tipe data floating, bisa positif/negatif dan bisa desimal (ada koma)"
   ]
  },
  {
   "cell_type": "code",
   "execution_count": 10,
   "metadata": {
    "collapsed": false
   },
   "outputs": [
    {
     "data": {
      "text/plain": [
       "3.14"
      ]
     },
     "execution_count": 10,
     "metadata": {},
     "output_type": "execute_result"
    }
   ],
   "source": [
    "3.14"
   ]
  },
  {
   "cell_type": "markdown",
   "metadata": {},
   "source": [
    "#contoh complex-numbers (bilangan komplek, 4 x 10<sup>2</sup>)"
   ]
  },
  {
   "cell_type": "code",
   "execution_count": 15,
   "metadata": {},
   "outputs": [
    {
     "data": {
      "text/plain": [
       "400.0"
      ]
     },
     "execution_count": 15,
     "metadata": {},
     "output_type": "execute_result"
    }
   ],
   "source": [
    "4e2"
   ]
  },
  {
   "cell_type": "markdown",
   "metadata": {},
   "source": [
    "#contoh complex-numbers (bilangan hexadesimal, bilangan berbasis 16)"
   ]
  },
  {
   "cell_type": "code",
   "execution_count": 18,
   "metadata": {},
   "outputs": [
    {
     "data": {
      "text/plain": [
       "255"
      ]
     },
     "execution_count": 18,
     "metadata": {},
     "output_type": "execute_result"
    }
   ],
   "source": [
    "0xFF"
   ]
  },
  {
   "cell_type": "markdown",
   "metadata": {},
   "source": [
    "##### Strings"
   ]
  },
  {
   "cell_type": "code",
   "execution_count": 19,
   "metadata": {
    "collapsed": false
   },
   "outputs": [
    {
     "data": {
      "text/plain": [
       "'apple'"
      ]
     },
     "execution_count": 19,
     "metadata": {},
     "output_type": "execute_result"
    }
   ],
   "source": [
    "'apple'"
   ]
  },
  {
   "cell_type": "code",
   "execution_count": 20,
   "metadata": {
    "collapsed": false
   },
   "outputs": [
    {
     "data": {
      "text/plain": [
       "'apple'"
      ]
     },
     "execution_count": 20,
     "metadata": {},
     "output_type": "execute_result"
    }
   ],
   "source": [
    "\"apple\""
   ]
  },
  {
   "cell_type": "markdown",
   "metadata": {},
   "source": [
    "Contoh diatas adalah tipe data Strings, dimana bisa menggunakan tanda petik satu, ataupun tanda petik dua. Tapi *by-default* akan di konversi oleh pyhon menjadi petik satu"
   ]
  },
  {
   "cell_type": "code",
   "execution_count": 1,
   "metadata": {},
   "outputs": [
    {
     "data": {
      "text/plain": [
       "'10'"
      ]
     },
     "execution_count": 1,
     "metadata": {},
     "output_type": "execute_result"
    }
   ],
   "source": [
    "#contoh tipe data string tapi berupa angka\n",
    "\"10\""
   ]
  },
  {
   "cell_type": "code",
   "execution_count": 4,
   "metadata": {},
   "outputs": [
    {
     "data": {
      "text/plain": [
       "'1010'"
      ]
     },
     "execution_count": 4,
     "metadata": {},
     "output_type": "execute_result"
    }
   ],
   "source": [
    "#tipe data string tidak dapat digunakan untuk menghitung operasi matematika, 10 + 10 = 20, \n",
    "#tetapi yang terjadi adalah stringnya menjadi disambung\n",
    "\"10\" + \"10\""
   ]
  },
  {
   "cell_type": "code",
   "execution_count": 13,
   "metadata": {},
   "outputs": [
    {
     "data": {
      "text/plain": [
       "'Ini adalah teks yang panjang\\nini adalah baris kedua nya'"
      ]
     },
     "execution_count": 13,
     "metadata": {},
     "output_type": "execute_result"
    }
   ],
   "source": [
    "#string dengan multiple-line, gunakan tanda petik 3x, dan akan menambah otomatis karakter untuk pindah baris!\n",
    "\"\"\"Ini adalah teks yang panjang\n",
    "ini adalah baris kedua nya\"\"\""
   ]
  },
  {
   "cell_type": "markdown",
   "metadata": {},
   "source": [
    "#terus bagaimana kalau saya mau di variable string saya dengan tanda petik? Menggunakan *escape-character* denga tanda *back-slash* (\\\\)"
   ]
  },
  {
   "cell_type": "code",
   "execution_count": 14,
   "metadata": {},
   "outputs": [
    {
     "data": {
      "text/plain": [
       "'Budi berkata \"itu ibu saya\"'"
      ]
     },
     "execution_count": 14,
     "metadata": {},
     "output_type": "execute_result"
    }
   ],
   "source": [
    "\"Budi berkata \\\"itu ibu saya\\\"\""
   ]
  },
  {
   "cell_type": "markdown",
   "metadata": {},
   "source": [
    "#kalau mau menampilkan character kanji atau tulisan non-ascii, dengan *unicode-characters* dengan memberikan u didepan string atau jika dalam character lain bisa menggunakan u\"\\u30EB\""
   ]
  },
  {
   "cell_type": "code",
   "execution_count": 15,
   "metadata": {},
   "outputs": [
    {
     "data": {
      "text/plain": [
       "'これはブディの母親です'"
      ]
     },
     "execution_count": 15,
     "metadata": {},
     "output_type": "execute_result"
    }
   ],
   "source": [
    "#ini terjemahan dari \"Ini ibu budi\" tapi dalam bahasa jepang\n",
    "u\"これはブディの母親です\""
   ]
  },
  {
   "cell_type": "markdown",
   "metadata": {},
   "source": [
    "##### Boolean"
   ]
  },
  {
   "cell_type": "code",
   "execution_count": 20,
   "metadata": {
    "collapsed": false
   },
   "outputs": [
    {
     "data": {
      "text/plain": [
       "True"
      ]
     },
     "execution_count": 20,
     "metadata": {},
     "output_type": "execute_result"
    }
   ],
   "source": [
    "#harus menggunakan huruf kapital di depannya True tidak bisa true (akan error)\n",
    "True"
   ]
  },
  {
   "cell_type": "code",
   "execution_count": 17,
   "metadata": {
    "collapsed": false
   },
   "outputs": [
    {
     "data": {
      "text/plain": [
       "False"
      ]
     },
     "execution_count": 17,
     "metadata": {},
     "output_type": "execute_result"
    }
   ],
   "source": [
    "False"
   ]
  },
  {
   "cell_type": "markdown",
   "metadata": {},
   "source": [
    "##### Lists and Dicts"
   ]
  },
  {
   "cell_type": "markdown",
   "metadata": {},
   "source": [
    "Python has three very useful data structures built into the language:\n",
    "\n",
    "* dictionaries (hash tables): {}\n",
    "* lists: []\n",
    "* tuples: (item, ...)\n",
    "\n",
    "List is a mutable list of items. Tuple is a read-only data structure (immutable)."
   ]
  },
  {
   "cell_type": "code",
   "execution_count": null,
   "metadata": {
    "collapsed": false
   },
   "outputs": [],
   "source": [
    "[1, 2, 3]"
   ]
  },
  {
   "cell_type": "code",
   "execution_count": null,
   "metadata": {
    "collapsed": false
   },
   "outputs": [],
   "source": [
    "(1, 2, 3)"
   ]
  },
  {
   "cell_type": "code",
   "execution_count": null,
   "metadata": {
    "collapsed": false
   },
   "outputs": [],
   "source": [
    "1, 2, 3"
   ]
  },
  {
   "cell_type": "code",
   "execution_count": null,
   "metadata": {
    "collapsed": true
   },
   "outputs": [],
   "source": [
    "{\"apple\": \"a fruit\", \"banana\": \"an herb\", \"monkey\": \"a mammal\"}"
   ]
  },
  {
   "cell_type": "code",
   "execution_count": null,
   "metadata": {
    "collapsed": false
   },
   "outputs": [],
   "source": [
    "{\"apple\": \"a fruit\", \"banana\": \"an herb\", \"monkey\": \"a mammal\"}[\"apple\"]"
   ]
  },
  {
   "cell_type": "markdown",
   "metadata": {},
   "source": [
    "##### Special Values"
   ]
  },
  {
   "cell_type": "code",
   "execution_count": 36,
   "metadata": {},
   "outputs": [],
   "source": [
    "# tipe data spesesial None yang berarti kosong atau null\n",
    "None"
   ]
  },
  {
   "cell_type": "markdown",
   "metadata": {},
   "source": [
    "### Function / Fungsi"
   ]
  },
  {
   "cell_type": "markdown",
   "metadata": {},
   "source": [
    "Fungsi adalah sekumpulan perintah / syntax dalam python, yang akan dijalankan ketika fungsi tersebut di panggil. Ada 2 cara memanggil fungsi di Python:\n",
    "\n",
    "1. by pre-defined infix operator name\n",
    "2. by function name, followed by parentheses\n",
    "\n",
    "Infix operator name:"
   ]
  },
  {
   "cell_type": "code",
   "execution_count": 22,
   "metadata": {
    "collapsed": false
   },
   "outputs": [
    {
     "data": {
      "text/plain": [
       "3"
      ]
     },
     "execution_count": 22,
     "metadata": {},
     "output_type": "execute_result"
    }
   ],
   "source": [
    "# operator + dan aritmatika lainnya termasuk fungsi yang sudah di definisikan didalam Python,\n",
    "# jadi pemanggilannya berbeda spt dibawah ini\n",
    "1 + 2"
   ]
  },
  {
   "cell_type": "code",
   "execution_count": 24,
   "metadata": {
    "collapsed": false
   },
   "outputs": [
    {
     "data": {
      "text/plain": [
       "1"
      ]
     },
     "execution_count": 24,
     "metadata": {},
     "output_type": "execute_result"
    }
   ],
   "source": [
    "# pemanggilan fungsi / function calls secara umum adalah seperti ini\n",
    "abs(-1)"
   ]
  },
  {
   "cell_type": "code",
   "execution_count": 25,
   "metadata": {
    "collapsed": true
   },
   "outputs": [],
   "source": [
    "# import memberikan info kepada Python, bahwa kita akan menggunakan package / module operator di dalam aplikasi kita\n",
    "import operator"
   ]
  },
  {
   "cell_type": "code",
   "execution_count": 28,
   "metadata": {
    "collapsed": false
   },
   "outputs": [
    {
     "data": {
      "text/plain": [
       "3"
      ]
     },
     "execution_count": 28,
     "metadata": {},
     "output_type": "execute_result"
    }
   ],
   "source": [
    "# untuk operasi penjumlahan dan fungsi aritmatika lainnya dapat juga menggunakan fungsi add() yang ada didalam package / module operator\n",
    "# maka pemanggilannya menjadi seperti fungsi biasa\n",
    "operator.add(1, 2)"
   ]
  },
  {
   "cell_type": "markdown",
   "metadata": {},
   "source": [
    "#### Print()"
   ]
  },
  {
   "cell_type": "markdown",
   "metadata": {},
   "source": [
    "Perintah untuk menampilkan data di dalam layar atau standard output. "
   ]
  },
  {
   "cell_type": "code",
   "execution_count": 30,
   "metadata": {
    "collapsed": false
   },
   "outputs": [
    {
     "name": "stdout",
     "output_type": "stream",
     "text": [
      "1\n"
     ]
    }
   ],
   "source": [
    "# pemanggilan fungsi print untuk menampilkan data numbers 1\n",
    "print(1)"
   ]
  },
  {
   "cell_type": "markdown",
   "metadata": {},
   "source": [
    "#### Mendefinisikan / Membuat Sebuah Fungsi"
   ]
  },
  {
   "cell_type": "code",
   "execution_count": 39,
   "metadata": {
    "collapsed": true
   },
   "outputs": [],
   "source": [
    "# jika di *run* baris perintah ini tidak ada output yang dikeluarkan, karena hanya mendefinisikan fungsi / function\n",
    "# Untuk fungsi / function bisa bekerja, maka fungsi tersebut harus dipanggil terlebih dahulu.\n",
    "# jika fungsi perlu mengembalikan nilai (ada hasil yang harus dikembalikan ke pemanggilnya), maka diahiri dengan keywor \n",
    "# return\n",
    "def plus(a, b):\n",
    "    return a + b"
   ]
  },
  {
   "cell_type": "code",
   "execution_count": 37,
   "metadata": {
    "collapsed": false
   },
   "outputs": [
    {
     "data": {
      "text/plain": [
       "7"
      ]
     },
     "execution_count": 37,
     "metadata": {},
     "output_type": "execute_result"
    }
   ],
   "source": [
    "# pemanggilan fungsi plus, yang kita definisikan di baris perintah atas\n",
    "# jika dijalankan akan melakukan penjumlahan variabel a dan b, yang di isi dengan nilai 3 dan 4, maka outputnya jadi 7\n",
    "plus(3, 4)"
   ]
  },
  {
   "cell_type": "code",
   "execution_count": 40,
   "metadata": {
    "collapsed": true
   },
   "outputs": [],
   "source": [
    "# jika sebuah fungsi tidak ada keyword return nya, maka ketika fungsi dipanggil\n",
    "# tidak akan ada nilai yang dikembalikan ke pemanggilnya\n",
    "def plus(a, b):\n",
    "    a + b"
   ]
  },
  {
   "cell_type": "code",
   "execution_count": 41,
   "metadata": {
    "collapsed": true
   },
   "outputs": [],
   "source": [
    "# ketika dipanggil, tidak hasil penjumlahan 3 + 4, karena tidak ada keyword return\n",
    "plus(3, 4)"
   ]
  },
  {
   "cell_type": "markdown",
   "metadata": {},
   "source": [
    "Jika suatu fungsi tidak mengembalikan nilai, maka python akan mengembalikan nilai defaultnya adalah None"
   ]
  },
  {
   "cell_type": "code",
   "execution_count": 42,
   "metadata": {
    "collapsed": false
   },
   "outputs": [
    {
     "ename": "TypeError",
     "evalue": "can only concatenate str (not \"int\") to str",
     "output_type": "error",
     "traceback": [
      "\u001b[0;31m---------------------------------------------------------------------------\u001b[0m",
      "\u001b[0;31mTypeError\u001b[0m                                 Traceback (most recent call last)",
      "\u001b[1;32m/Users/zivlab/learning/python/withyoe/day1/Chapter 01 - Introduction to Python.ipynb Cell 59'\u001b[0m in \u001b[0;36m<cell line: 1>\u001b[0;34m()\u001b[0m\n\u001b[0;32m----> <a href='vscode-notebook-cell:/Users/zivlab/learning/python/withyoe/day1/Chapter%2001%20-%20Introduction%20to%20Python.ipynb#ch0000045?line=0'>1</a>\u001b[0m \u001b[39m\"\u001b[39;49m\u001b[39ma\u001b[39;49m\u001b[39m\"\u001b[39;49m \u001b[39m+\u001b[39;49m \u001b[39m1\u001b[39;49m\n",
      "\u001b[0;31mTypeError\u001b[0m: can only concatenate str (not \"int\") to str"
     ]
    }
   ],
   "source": [
    "# perintah \n",
    "\"a\" + 1"
   ]
  },
  {
   "cell_type": "markdown",
   "metadata": {},
   "source": [
    "<div>\n",
    "<h4>Cara membaca pesan error pada Python</h4>\n",
    "\n",
    "<p>\n",
    "Pesan error pada python\n",
    "<p>\n",
    "<tt>TypeError: Can't convert 'int' object to str implicitly</tt>\n",
    "</p>\n",
    "\n",
    "<p>Pesan error dibawah seperti \"traceback\" atau disebut juga \"call stack\", berarti error tersebut terjadi ketika pyhon menginterpretasikan perintah yang kita jalankan \"a\" + 1 => error: \"can only concatenate str (not \"int\") to str. Artinya interpreter python tidak dapat memproses\n",
    "penggabungan string (str) dan integer (int - numbers).\n",
    "</p>\n",
    "</div>"
   ]
  },
  {
   "cell_type": "markdown",
   "metadata": {},
   "source": [
    "### Operator"
   ]
  },
  {
   "cell_type": "markdown",
   "metadata": {},
   "source": [
    "Berikut adalah operator-operator yang dapat digunakan dalam python:\n",
    "\n",
    "* Assignment / Penugasan\n",
    "* Aritmatika / Operasi Matematika\n",
    "* Comparison / Komparasi / Perbandingan\n",
    "* Logika\n",
    "* Bit-wise"
   ]
  },
  {
   "cell_type": "markdown",
   "metadata": {},
   "source": [
    "#### Opeator Assignment / Penugasan"
   ]
  },
  {
   "cell_type": "markdown",
   "metadata": {},
   "source": [
    "Assignment / penugasan adalah operasi untuk memberikan nilai baru pada suatu variable:\n",
    "| Operator | Contoh | Equivalent / Penulisan Lain |\n",
    "|---|---|---|\n",
    "| = | x = 2 | x = 2 |\n",
    "| += | x += 2 | x = x + 2 |\n",
    "| -= | x -= 1 | x = x - 1 |\n",
    "| *= | x *= 3 | x = x * 3 |\n",
    "| /= | x /= 2 | x = x / 2 |\n",
    "| %= | x %= 10 | x = x % 10 |\n",
    "| **= | x **= 3 | x = x ** 3 |"
   ]
  },
  {
   "cell_type": "markdown",
   "metadata": {},
   "source": [
    "#### Operator Aritmatika"
   ]
  },
  {
   "cell_type": "markdown",
   "metadata": {},
   "source": [
    "Berikut daftar operator yang dapat digunakan untuk fungsi matematika:\n",
    "| Operator | Fungsi | Contoh | Output |\n",
    "|---|---|---|---|\n",
    "| + | Penjumlahan | 1 + 2 | 3 |\n",
    "| - | Pengurangan | 2 - 1 | 1 |\n",
    "| * | Perkalian | 2 * 3 | 6 |\n",
    "| / | Pembagian | 6 / 3 | 2 |\n",
    "| % | Modulus, sisa hasil bagi | 9 % 2 | 1 |\n",
    "| ** | Eksponensial | 2 ** 3 | 8 |"
   ]
  },
  {
   "cell_type": "markdown",
   "metadata": {},
   "source": [
    "#### Operator Comparison / Komparasi / Perbandingan"
   ]
  },
  {
   "cell_type": "markdown",
   "metadata": {},
   "source": [
    "Comparison adalah operator yang digunakan untuk membandingkan nilai dari 2 variable, berikut daftarnya:\n",
    "| Operator | Fungsi | Contoh | Output |\n",
    "|---|---|---|---|\n",
    "| == | Sama dengan | 1 == 2 | False |\n",
    "| != | Tidak sama dengan | 2 != 1 | True |\n",
    "| > | Lebih besar | 2 > 3| False |\n",
    "| >= | Lebih besar atau sama dengan | 2 >= 2 | True |\n",
    "| < | Lebih kecil | 2 < 3 | True |\n",
    "| <= | Lebih kecil atau sama dengan | 2 <= 3 | True |\n",
    "| is | Membandingkan apakah variable di sebelah kiri dan sebelah kanan menempati lokasi memori yang sama | [] is [] | False |"
   ]
  },
  {
   "cell_type": "markdown",
   "metadata": {},
   "source": [
    "##### is (Contoh Penggunaan)"
   ]
  },
  {
   "cell_type": "code",
   "execution_count": 52,
   "metadata": {
    "collapsed": false
   },
   "outputs": [
    {
     "data": {
      "text/plain": [
       "False"
      ]
     },
     "execution_count": 52,
     "metadata": {},
     "output_type": "execute_result"
    }
   ],
   "source": [
    "# digunakan untuk membandingkan / test 2 object tertentu me-refer ke lokasi memori yang sama atau tidak\n",
    "[1] is [1]"
   ]
  },
  {
   "cell_type": "code",
   "execution_count": 56,
   "metadata": {
    "collapsed": false
   },
   "outputs": [
    {
     "data": {
      "text/plain": [
       "False"
      ]
     },
     "execution_count": 56,
     "metadata": {},
     "output_type": "execute_result"
    }
   ],
   "source": [
    "# untuk list() akan menempati memory yang berbeda, sehingga hasilnya False\n",
    "list() is list()"
   ]
  },
  {
   "cell_type": "code",
   "execution_count": 37,
   "metadata": {
    "collapsed": false
   },
   "outputs": [
    {
     "data": {
      "text/plain": [
       "True"
      ]
     },
     "execution_count": 37,
     "metadata": {},
     "output_type": "execute_result"
    }
   ],
   "source": [
    "# untuk tuple() akan menempati memory yang sama, sehingga hasilnya True\n",
    "tuple() is tuple()"
   ]
  },
  {
   "cell_type": "code",
   "execution_count": 40,
   "metadata": {
    "collapsed": false
   },
   "outputs": [
    {
     "name": "stderr",
     "output_type": "stream",
     "text": [
      "<>:2: SyntaxWarning: \"is\" with a literal. Did you mean \"==\"?\n",
      "<>:2: SyntaxWarning: \"is\" with a literal. Did you mean \"==\"?\n",
      "/var/folders/zt/sc6n4dq93vx8nb6pqh3_xk140000gn/T/ipykernel_1946/62854606.py:2: SyntaxWarning: \"is\" with a literal. Did you mean \"==\"?\n",
      "  57663463467 is 57663463467\n"
     ]
    },
    {
     "data": {
      "text/plain": [
       "True"
      ]
     },
     "execution_count": 40,
     "metadata": {},
     "output_type": "execute_result"
    }
   ],
   "source": [
    "# contoh ini akan menghasilkan warning\n",
    "57663463467 is 57663463467"
   ]
  },
  {
   "cell_type": "markdown",
   "metadata": {},
   "source": [
    "#### Operator Logika"
   ]
  },
  {
   "cell_type": "markdown",
   "metadata": {},
   "source": [
    "Operator logika befungsi untuk menggabungkan lebih dari satu operator komparasi, berikut daftarnya\n",
    "| Operator | Fungsi | Contoh | Output |\n",
    "|---|---|---|---|\n",
    "| and | Akan True jika perintah komparasi 1 dan 2 hasilnya True | if 5 > 2 and 3 > 2 | True |\n",
    "| or | Akan False jika perintah komparasi 1 dan 2 hasilnya False, sisanya True | if 5 < 2 or 3 < 2 | False |\n",
    "| not | Operasi ingkar di matematika, jika posisi variable / operasi komparasi sama dengan True, maka di ingkar menjadi False | not(x) | jika nilai x True maka not(x) sama dengan False |"
   ]
  },
  {
   "cell_type": "markdown",
   "metadata": {},
   "source": [
    "#### Operator Bit-Wise"
   ]
  },
  {
   "cell_type": "markdown",
   "metadata": {},
   "source": [
    "Operator logika befungsi untuk menggabungkan lebih dari satu operator komparasi, berikut daftarnya\n",
    "| Operator | Nama Lain | Deskripsi |\n",
    "|---|---|---|\n",
    "| & | AND | Jika 2 bit adalah 1 semua, maka hasilnya 1 |\n",
    "| \\| | OR | Jika 2 bit ada satu yang bernilai 1, maka akan menjadi 1, jika dua-dua nya 0 maka akan menjadi 0 |\n",
    "| ^ | XOR | Akan bernilai 1 jika bit satu dan yang lainnya bernilai masing-masing 0 |\n",
    "| ~ | NOR | Mengingkar bit, jika bit adalah 1 maka ~ menjadi 0 |"
   ]
  },
  {
   "cell_type": "markdown",
   "metadata": {},
   "source": [
    "### Loop"
   ]
  },
  {
   "cell_type": "markdown",
   "metadata": {},
   "source": [
    "Loop adalah perulangan, perintah-perintah yang ada di dalam blok perulangan, akan di jalankan apabila kondisi yang ditentukan True. Berikut daftar perintah untuk melakukan perulangan di python:\n",
    "\n",
    "* for\n",
    "* while"
   ]
  },
  {
   "cell_type": "markdown",
   "metadata": {},
   "source": [
    "#### For"
   ]
  },
  {
   "cell_type": "markdown",
   "metadata": {},
   "source": [
    "Seringnya dipakai jika perulangannya sudah terdefinisi berapa kali. berikut contoh-contoh penggunaan loop for."
   ]
  },
  {
   "cell_type": "code",
   "execution_count": 42,
   "metadata": {},
   "outputs": [
    {
     "name": "stdout",
     "output_type": "stream",
     "text": [
      "0\n",
      "1\n",
      "2\n",
      "3\n",
      "4\n",
      "5\n",
      "6\n",
      "7\n",
      "8\n",
      "9\n"
     ]
    }
   ],
   "source": [
    "# akan mengulang sebanyak 10x\n",
    "for x in range(10):\n",
    "    print(x)"
   ]
  },
  {
   "cell_type": "code",
   "execution_count": 48,
   "metadata": {},
   "outputs": [
    {
     "name": "stdout",
     "output_type": "stream",
     "text": [
      "10\n",
      "9\n",
      "8\n",
      "7\n",
      "6\n",
      "5\n",
      "4\n",
      "3\n",
      "2\n",
      "1\n"
     ]
    }
   ],
   "source": [
    "# loop dengan nilai yang menurun\n",
    "for x in range(10, 0, -1):\n",
    "    print(x)"
   ]
  },
  {
   "cell_type": "code",
   "execution_count": 50,
   "metadata": {},
   "outputs": [
    {
     "name": "stdout",
     "output_type": "stream",
     "text": [
      "Nama Budi\n",
      "Nama Anton\n",
      "Nama Ali\n",
      "Nama Yanto\n"
     ]
    }
   ],
   "source": [
    "# for loop untuk melakukan perulangan anggota tipe data list\n",
    "students = [\"Budi\", \"Anton\", \"Ali\", \"Yanto\"]\n",
    "for student in students:\n",
    "    print(\"Nama\", student)"
   ]
  },
  {
   "cell_type": "code",
   "execution_count": 54,
   "metadata": {},
   "outputs": [
    {
     "name": "stdout",
     "output_type": "stream",
     "text": [
      "nama Budi\n",
      "umur 20\n",
      "alamat Jakarta\n"
     ]
    }
   ],
   "source": [
    "# for loop dengan dictionary\n",
    "netizen = {\"nama\": \"Budi\", \"umur\": 20, \"alamat\": \"Jakarta\"}\n",
    "for x in netizen:\n",
    "    print(x, netizen[x])"
   ]
  },
  {
   "cell_type": "markdown",
   "metadata": {},
   "source": [
    "#### While"
   ]
  },
  {
   "cell_type": "markdown",
   "metadata": {},
   "source": [
    "Perintah dalam blok akan terus diulang jika kondisi nya True, berikut contohnya."
   ]
  },
  {
   "cell_type": "code",
   "execution_count": 44,
   "metadata": {},
   "outputs": [
    {
     "name": "stdout",
     "output_type": "stream",
     "text": [
      "100\n",
      "101\n",
      "102\n",
      "103\n",
      "104\n",
      "105\n",
      "106\n",
      "107\n",
      "108\n",
      "109\n"
     ]
    }
   ],
   "source": [
    "x = 100\n",
    "while x < 110:\n",
    "    print(x)\n",
    "    x += 1"
   ]
  },
  {
   "cell_type": "markdown",
   "metadata": {},
   "source": [
    "Berikut perintah untuk mengontrol loop.\n",
    "| Nama | Deskripsi |\n",
    "|---|---|\n",
    "| break | jika dalam perulangan perintah break dijalankan, maka akan keluar dari loop |\n",
    "| continue | perintah ini akan terus menjalankan loop |\n",
    "| pass | perintah pass dipakai dalam loop yang kosong, sedangkan python mewajibkan loop harus minimal berisi 1 baris perintah di dalam loop |"
   ]
  },
  {
   "cell_type": "code",
   "execution_count": 51,
   "metadata": {},
   "outputs": [
    {
     "name": "stdout",
     "output_type": "stream",
     "text": [
      "0\n",
      "1\n",
      "2\n",
      "3\n",
      "4\n",
      "5\n"
     ]
    }
   ],
   "source": [
    "# contoh pemakain break\n",
    "for x in range(10):\n",
    "    if x >= 6:\n",
    "        break\n",
    "    else:\n",
    "        print(x)"
   ]
  },
  {
   "cell_type": "markdown",
   "metadata": {},
   "source": [
    "### Logic Control"
   ]
  },
  {
   "cell_type": "markdown",
   "metadata": {},
   "source": [
    "Mengatur alur program, dengan perintah if ... else atau elif. Berikut contoh nya"
   ]
  },
  {
   "cell_type": "code",
   "execution_count": 47,
   "metadata": {},
   "outputs": [
    {
     "name": "stdout",
     "output_type": "stream",
     "text": [
      "Variable x lebih kecil dari y\n"
     ]
    }
   ],
   "source": [
    "x = 10\n",
    "y = 11\n",
    "if x < y:\n",
    "    print(\"Variable x lebih kecil dari y\")\n",
    "elif x == y:\n",
    "    print(\"Variable x sama dengan y\")\n",
    "else:\n",
    "    print(\"Variable x lebih besar dari y\")"
   ]
  },
  {
   "cell_type": "markdown",
   "metadata": {},
   "source": [
    "## Object Oriented Programming (OOP)"
   ]
  },
  {
   "cell_type": "markdown",
   "metadata": {},
   "source": [
    "Object Oriented Programming atau (OOP) adalah suatu teknik programming yang menganalogikan segala sesuatu adalah sebagai objek. Konsep ini sangat penting, karena akan membuat aplikasi yang kita desain dan kembangkan, menjadi lebih mudah dibaca, component reusable (class yang dipakai dapat di pakai ulang ataupun di turunkan menjadi kelas baru), di scale-up, dan mudah untuk berkolaborasi dengan tim developer.\n",
    "\n",
    "Dalam OOP, akan dikenal istiah, dan akan dibahas dibawah ini:\n",
    "* Class & Object\n",
    "* Inheritance atau turunan\n",
    "* Polymorphism"
   ]
  },
  {
   "cell_type": "markdown",
   "metadata": {},
   "source": [
    "### Class & Object"
   ]
  },
  {
   "cell_type": "markdown",
   "metadata": {},
   "source": [
    "Class adalah cetak biru / blueprint. Anggap saja ketika seorang arsitek ingin membuat rumah, maka sebelum fisiknya dibangun, seoarang arsitek akan membuat draft rancangan gambar rumah yang akan dibangun, termasuk didalamnya ada kamar berapa, kamar nya ukuran berapa, ada ruang keluarga, ruang makan, kamar mandi, dll. Nah ketika gambar tersebut sudah dibuat, baru bangunan akan didirikan, gambar kerja itu di OOP kita sebut *class*, dan real bangunan disini dapat disebut *object*.\n",
    "\n",
    "Jadi sebuah class tidak akan bisa dipakai langsung kecuali class tersebut di buat objek. Proses pembuatan class menjadi objek disebut instantiate, dan ketika sudah menjadi object maka disebut instance.\n",
    "Class memungkinkan untuk dibuat object berkali-kali (tidak terbatas hanya 1 object). \n",
    "\n",
    "Kembali ke contoh arsitek diatas, ada suatu saat arsitek akan membangun rumah yang lain, dan tentunya layout rumahnya atau fasilitas ruangan sedikit berbeda dengan yang sebelumnya, maka arsitek tersebut daripada membuat gambar dari nol, maka akan lebih mudah mengubah gambar kerja sebelumnya, untuk di tambah / dikurangi dari gambar kerja sebelumnya, sehingga menjadi suatu gambar kerja baru. Proses tersebut didalam OOP disebut inheritance (membuat class baru dari class sebelumnya) dan polymorphism (fungsi yang sama beda proses didalamnya)."
   ]
  },
  {
   "cell_type": "code",
   "execution_count": 2,
   "metadata": {},
   "outputs": [],
   "source": [
    "# deklarasi class, tetapi class nya tidak ada properti dan methond sama sekali\n",
    "class MahlukHidup:\n",
    "    pass"
   ]
  },
  {
   "cell_type": "code",
   "execution_count": 7,
   "metadata": {},
   "outputs": [
    {
     "name": "stdout",
     "output_type": "stream",
     "text": [
      "Budi adalah ciptaantuhan\n",
      "Nama saya adalah Budi\n",
      "Paus adalah ciptaantuhan\n",
      "Nama saya adalah Jackie\n"
     ]
    }
   ],
   "source": [
    "# deklarasi class, dengan property dan method sekaligus instantiate\n",
    "class MahlukHidup:\n",
    "    attr = \"ciptaantuhan\"\n",
    "\n",
    "    def __init__(self, category, name):\n",
    "        self.name = name            # properti / attribute dari class\n",
    "        self.category = category   \n",
    "\n",
    "    def printNama(self):            # method (function yang ada di dalam class disebut method)\n",
    "        print(self.name)\n",
    "\n",
    "    def printCategory(self):\n",
    "        print(self.category)\n",
    "\n",
    "Budi = MahlukHidup(\"Manusia\", \"Budi\")\n",
    "Paus = MahlukHidup(\"Ikan\", \"Jackie\")\n",
    "\n",
    "print(\"Budi adalah\", Budi.__class__.attr)\n",
    "print(\"Nama saya adalah\", Budi.name)\n",
    "\n",
    "print(\"Paus adalah\", Paus.__class__.attr)\n",
    "print(\"Nama saya adalah\", Paus.name)\n",
    "\n"
   ]
  },
  {
   "cell_type": "markdown",
   "metadata": {},
   "source": [
    "### Inheritance / Turunan"
   ]
  },
  {
   "cell_type": "markdown",
   "metadata": {},
   "source": [
    "Seperti yang analogi arsitek diatas, inheritance adalah turunan, jadi inherit adalah proses penurunan (class nya punya anak/keturunan), karena keturunan maka sifat dasar nya akan mewarisi class induknya. Contoh class MahlukHidup mempunyai properti seperti cara berkembang biak (semua mahluk hidup pasti dapat berkembang biak), cara bernafas (tiap mahluk hidup juga pasti mampu / selalu bernafas). Nah jika class MahlukHidup tersebut kita turunkan menjadi class Hewan, maka hewan pun mempunyai properti dan method berkembang biak dan bernafas, meskipun class Hewan memiliki ciri lain, yang lebih spesifik."
   ]
  },
  {
   "cell_type": "code",
   "execution_count": 15,
   "metadata": {},
   "outputs": [
    {
     "name": "stdout",
     "output_type": "stream",
     "text": [
      "Cara berkembang biak dengan beranak\n",
      "Cara berkomunikasi dengan menggongong\n",
      "Cara berkembang biak dengan bertunas\n"
     ]
    }
   ],
   "source": [
    "class MahlukHidup(object):\n",
    "    def __init__(self, cara_berkembang_biak, cara_bernafas):\n",
    "        self.cara_berkembang_biak = cara_berkembang_biak\n",
    "        self.cara_bernafas = cara_bernafas\n",
    "\n",
    "    def berkembangBiak(self):\n",
    "        print(self.cara_berkembang_biak)\n",
    "\n",
    "    def bernafas(self):\n",
    "        print(self.cara_bernafas)\n",
    "\n",
    "class Anjing(MahlukHidup):\n",
    "    def __init__(self):\n",
    "        self.cara_bernafas = \"Cara bernafas dengan paru-paru\"\n",
    "        self.cara_berkembang_biak = \"Cara berkembang biak dengan beranak\"\n",
    "    \n",
    "    def berkomunikasi(self):\n",
    "        print(\"Cara berkomunikasi dengan menggongong\")\n",
    "\n",
    "\n",
    "class Anggrek(MahlukHidup):\n",
    "    def __init__(self):\n",
    "        self.cara_bernafas = \"Cara bernafas dengan daun\"\n",
    "        self.cara_berkembang_biak = \"Cara berkembang biak dengan bertunas\"\n",
    "\n",
    "\n",
    "Mochi = Anjing()\n",
    "Chatelya = Anggrek()\n",
    "\n",
    "Mochi.berkembangBiak()\n",
    "Mochi.berkomunikasi()\n",
    "\n",
    "Chatelya.berkembangBiak()\n",
    "\n",
    "# class anggrek tidak punya method / function berkomunikasi, maka akan error jika dibuka komennya (#)\n",
    "# Chatelya.berkomunikasi()"
   ]
  },
  {
   "cell_type": "markdown",
   "metadata": {},
   "source": [
    "### Polymorphism"
   ]
  },
  {
   "cell_type": "markdown",
   "metadata": {},
   "source": [
    "Berasal dari kata-kata morph, artinya berubah wujud. Maka polymorphism adalah proses pembuatan kelas turunan baru yang implementasi / prose di dalam methodnya berbeda antara satu class dengan class yang lain."
   ]
  },
  {
   "cell_type": "code",
   "execution_count": 18,
   "metadata": {},
   "outputs": [
    {
     "name": "stdout",
     "output_type": "stream",
     "text": [
      "Ikan paus berkembang biak dengan bertelur\n",
      "Ikan paus bernafas dengan paru-paru\n",
      "Ikan mas berkembang biak dengan bertelur\n",
      "Ikan mas bernafas dengan insang\n"
     ]
    }
   ],
   "source": [
    "class Ikan(object):\n",
    "    def __init__(self):\n",
    "        self.cara_bernafas = \"\"\n",
    "        self.cara_berkembang_biak = \"\"\n",
    "    \n",
    "    def berkembangBiak(self):\n",
    "        print(self.cara_berkembang_biak)\n",
    "\n",
    "    def bernafas(self):\n",
    "        print(self.cara_bernafas)\n",
    "\n",
    "    def berkomunikasi(self):\n",
    "        print(\"Cara berkomunikasi dengan menggongong\")\n",
    "\n",
    "    def postur(self):\n",
    "        pass\n",
    "\n",
    "\n",
    "class Paus(Ikan):\n",
    "    def __init__(self):\n",
    "        self.cara_bernafas = \"Ikan paus bernafas dengan paru-paru\"\n",
    "        self.cara_berkembang_biak = \"Ikan paus berkembang biak dengan bertelur\"\n",
    "\n",
    "class Mas(Ikan):\n",
    "    def __init__(self):\n",
    "        self.cara_bernafas = \"Ikan mas bernafas dengan insang\"\n",
    "        self.cara_berkembang_biak = \"Ikan mas berkembang biak dengan bertelur\"\n",
    "\n",
    "\n",
    "Willie = Paus()\n",
    "Koki = Mas()\n",
    "\n",
    "Willie.berkembangBiak()\n",
    "Willie.bernafas()\n",
    "\n",
    "Koki.berkembangBiak()\n",
    "Koki.bernafas()\n",
    "\n",
    "# class anggrek tidak punya method / function berkomunikasi, maka akan error jika dibuka komennya (#)\n",
    "# Chatelya.berkomunikasi()"
   ]
  },
  {
   "cell_type": "markdown",
   "metadata": {},
   "source": [
    "## Advanced Topics / Topik Lanjutan"
   ]
  },
  {
   "cell_type": "markdown",
   "metadata": {},
   "source": [
    "The Zen of Python / Kata-kata bijak dari Python (jalankan perintah dibawah ini):"
   ]
  },
  {
   "cell_type": "code",
   "execution_count": 59,
   "metadata": {
    "collapsed": false
   },
   "outputs": [
    {
     "name": "stdout",
     "output_type": "stream",
     "text": [
      "The Zen of Python, by Tim Peters\n",
      "\n",
      "Beautiful is better than ugly.\n",
      "Explicit is better than implicit.\n",
      "Simple is better than complex.\n",
      "Complex is better than complicated.\n",
      "Flat is better than nested.\n",
      "Sparse is better than dense.\n",
      "Readability counts.\n",
      "Special cases aren't special enough to break the rules.\n",
      "Although practicality beats purity.\n",
      "Errors should never pass silently.\n",
      "Unless explicitly silenced.\n",
      "In the face of ambiguity, refuse the temptation to guess.\n",
      "There should be one-- and preferably only one --obvious way to do it.\n",
      "Although that way may not be obvious at first unless you're Dutch.\n",
      "Now is better than never.\n",
      "Although never is often better than *right* now.\n",
      "If the implementation is hard to explain, it's a bad idea.\n",
      "If the implementation is easy to explain, it may be a good idea.\n",
      "Namespaces are one honking great idea -- let's do more of those!\n"
     ]
    }
   ],
   "source": [
    "import this"
   ]
  },
  {
   "cell_type": "markdown",
   "metadata": {},
   "source": [
    "Python evolves. But there are limits: Ini adalah joke dari python, biasanya ketika kita mengimpor __future__ dari suatu module / package, akan menampilkan fungsi yanga sudah kadaluarsa, tatapi ketika di import __future__ dari braces, maka akan menampilkan not a chance, maksudnya sampai kapan pun python tidak akan pernah mengakomodir penanda block dengan curly-braces {} seperti pada bahasa pemrograman lainnya. ^^"
   ]
  },
  {
   "cell_type": "code",
   "execution_count": 60,
   "metadata": {
    "collapsed": false
   },
   "outputs": [
    {
     "ename": "SyntaxError",
     "evalue": "not a chance (3905450354.py, line 1)",
     "output_type": "error",
     "traceback": [
      "\u001b[0;36m  Input \u001b[0;32mIn [60]\u001b[0;36m\u001b[0m\n\u001b[0;31m    from __future__ import braces\u001b[0m\n\u001b[0m    ^\u001b[0m\n\u001b[0;31mSyntaxError\u001b[0m\u001b[0;31m:\u001b[0m not a chance\n"
     ]
    }
   ],
   "source": [
    "from __future__ import braces"
   ]
  },
  {
   "cell_type": "markdown",
   "metadata": {},
   "source": [
    "### Python Warts (Kumpulan keluhan tentang python)"
   ]
  },
  {
   "cell_type": "markdown",
   "metadata": {},
   "source": [
    "* http://web.archive.org/web/20031002184114/www.amk.ca/python/writing/warts.html\n",
    "* \n",
    "* https://www.python.org/dev/peps/pep-3099/"
   ]
  },
  {
   "cell_type": "markdown",
   "metadata": {},
   "source": [
    "### Scope of Variables (Ruang Lingkup Variable)"
   ]
  },
  {
   "cell_type": "markdown",
   "metadata": {},
   "source": [
    "Scoping variable di python tidak jelas, apakah ruang lingkupnya global atau local, sebagai contoh dibawah, variable x jika di liat di posisinya seharusnya x hanya bisa di kenali di dalam blok for, tetapi x juga bisa di akses dari luar scope for seperti variable global (tidak seperti bahasa pemrograman lainnya) sehingga penggunaanya harus berhati-hati!"
   ]
  },
  {
   "cell_type": "code",
   "execution_count": 61,
   "metadata": {
    "collapsed": false
   },
   "outputs": [],
   "source": [
    "y = 0\n",
    "for x in range(10):\n",
    "    y = x"
   ]
  },
  {
   "cell_type": "code",
   "execution_count": 73,
   "metadata": {
    "collapsed": false
   },
   "outputs": [
    {
     "data": {
      "text/plain": [
       "9"
      ]
     },
     "execution_count": 73,
     "metadata": {},
     "output_type": "execute_result"
    }
   ],
   "source": [
    "x"
   ]
  },
  {
   "cell_type": "code",
   "execution_count": 67,
   "metadata": {
    "collapsed": false
   },
   "outputs": [
    {
     "data": {
      "text/plain": [
       "[10, 11, 12, 13, 14, 15, 16, 17, 18, 19]"
      ]
     },
     "execution_count": 67,
     "metadata": {},
     "output_type": "execute_result"
    }
   ],
   "source": [
    "# Perintah dibawah ini tidak jelas, apakah x di luar for dan di dalam for apakah sama? ternyata berbeda\n",
    "# kalian dapat membuat variable dengan tipe data list, dan sekaligus mengisi variable list tersebut \n",
    "# dengan nilai dari perulangan 10 - 20\n",
    "[x for x in range(10, 20)]"
   ]
  },
  {
   "cell_type": "code",
   "execution_count": 72,
   "metadata": {
    "collapsed": false
   },
   "outputs": [
    {
     "data": {
      "text/plain": [
       "9"
      ]
     },
     "execution_count": 72,
     "metadata": {},
     "output_type": "execute_result"
    }
   ],
   "source": [
    "# tetapi x yang dikenali di global, adalah x yang didalam for, sehingga jika kita trace / lacak, nilai x adalah 9 (nilai yang didalam scope for)\n",
    "x"
   ]
  },
  {
   "cell_type": "markdown",
   "metadata": {},
   "source": [
    "#### Scope"
   ]
  },
  {
   "cell_type": "markdown",
   "metadata": {},
   "source": [
    "Python mengikuti pola L E GB untuk scoping variable nya:\n",
    "\n",
    "* L, Local: Variable yang di deklarasikan / definisikan di dalam function / fungsi (def atau lambda).\n",
    "* E, Enclosing function locals: Variable yang di deklarasikan di dalam satu blok tertentu.\n",
    "* G, Global (module): Variable yang di deklarasikan diatas module, dan variable tersebut dapat diakses oleh semua selama masih di dalam file tersebut.\n",
    "* B, Built-in (Python): Variable yang di definisikan / deklarasi sebelumnya di dalam python."
   ]
  },
  {
   "cell_type": "code",
   "execution_count": 77,
   "metadata": {
    "collapsed": false
   },
   "outputs": [],
   "source": [
    "# variable x di module, tidak dapat diakses di dalam function jika, ada nama yang sama di dalam function tersebut\n",
    "x = 3\n",
    "def foo():\n",
    "    x=4\n",
    "    def bar():\n",
    "        print(x)  # Accesses x from foo's scope\n",
    "    bar()  # Prints 4\n",
    "    x=5\n",
    "    bar()  # Prints 5"
   ]
  },
  {
   "cell_type": "code",
   "execution_count": 76,
   "metadata": {
    "collapsed": false
   },
   "outputs": [
    {
     "name": "stdout",
     "output_type": "stream",
     "text": [
      "4\n",
      "5\n"
     ]
    }
   ],
   "source": [
    "foo()"
   ]
  },
  {
   "cell_type": "markdown",
   "metadata": {},
   "source": [
    "See [scope_resolution_legb_rule.ipynb](scope_resolution_legb_rule.ipynb) for some additional readings on scope."
   ]
  },
  {
   "cell_type": "markdown",
   "metadata": {},
   "source": [
    "### Generators"
   ]
  },
  {
   "cell_type": "markdown",
   "metadata": {},
   "source": [
    "Generator adalah fungsi khusus / special function di Python, fungsi tersebut tidak mengembalikan nilai tetapi mengembalikan iterator (prose perulangan). Sebagai analogi, jika kita kebank, dan di teller ada mesin penghitung uang kertas, nah.. iterator adalah alat / bagian pemutar nya)"
   ]
  },
  {
   "cell_type": "code",
   "execution_count": 78,
   "metadata": {
    "collapsed": true
   },
   "outputs": [],
   "source": [
    "# contoh berikut merupakan generators dalam python, dengan keyword yield\n",
    "def function():\n",
    "    for i in range(10):\n",
    "        yield i"
   ]
  },
  {
   "cell_type": "code",
   "execution_count": 79,
   "metadata": {
    "collapsed": false
   },
   "outputs": [
    {
     "data": {
      "text/plain": [
       "<generator object function at 0x7f7c0244cf20>"
      ]
     },
     "execution_count": 79,
     "metadata": {},
     "output_type": "execute_result"
    }
   ],
   "source": [
    "function()"
   ]
  },
  {
   "cell_type": "code",
   "execution_count": 80,
   "metadata": {
    "collapsed": false
   },
   "outputs": [
    {
     "name": "stdout",
     "output_type": "stream",
     "text": [
      "0\n",
      "1\n",
      "2\n",
      "3\n",
      "4\n",
      "5\n",
      "6\n",
      "7\n",
      "8\n",
      "9\n"
     ]
    }
   ],
   "source": [
    "for y in function():\n",
    "    print(y)"
   ]
  },
  {
   "cell_type": "markdown",
   "metadata": {},
   "source": [
    "### Default arguments / parameters"
   ]
  },
  {
   "cell_type": "markdown",
   "metadata": {},
   "source": [
    "Ketika kalian mendefinisikan suatu fungsi, dan fungsi tersebut mempunyai parameter, parameter di fungsi tersebut bisa diberikan nilai default, artinya jika fungsi tersebut dipanggil tanpa diberikan parameter, maka nilai defaultnya yang dipakai."
   ]
  },
  {
   "cell_type": "code",
   "execution_count": 1,
   "metadata": {
    "collapsed": true
   },
   "outputs": [],
   "source": [
    "def do_something(a, b, c):\n",
    "    return (a, b, c)"
   ]
  },
  {
   "cell_type": "code",
   "execution_count": 2,
   "metadata": {
    "collapsed": false
   },
   "outputs": [
    {
     "data": {
      "text/plain": [
       "(1, 2, 3)"
      ]
     },
     "execution_count": 2,
     "metadata": {},
     "output_type": "execute_result"
    }
   ],
   "source": [
    "do_something(1, 2, 3)"
   ]
  },
  {
   "cell_type": "code",
   "execution_count": 3,
   "metadata": {
    "collapsed": true
   },
   "outputs": [],
   "source": [
    "def do_something_else(a=1, b=2, c=3):\n",
    "    return (a, b, c)"
   ]
  },
  {
   "cell_type": "code",
   "execution_count": 4,
   "metadata": {
    "collapsed": false
   },
   "outputs": [
    {
     "data": {
      "text/plain": [
       "(1, 2, 3)"
      ]
     },
     "execution_count": 4,
     "metadata": {},
     "output_type": "execute_result"
    }
   ],
   "source": [
    "do_something_else()"
   ]
  },
  {
   "cell_type": "code",
   "execution_count": null,
   "metadata": {
    "collapsed": true
   },
   "outputs": [],
   "source": [
    "def some_function(start=[]):\n",
    "    start.append(1)\n",
    "    return start"
   ]
  },
  {
   "cell_type": "code",
   "execution_count": null,
   "metadata": {
    "collapsed": true
   },
   "outputs": [],
   "source": [
    "result = some_function()"
   ]
  },
  {
   "cell_type": "code",
   "execution_count": null,
   "metadata": {
    "collapsed": false
   },
   "outputs": [],
   "source": [
    "result"
   ]
  },
  {
   "cell_type": "code",
   "execution_count": null,
   "metadata": {
    "collapsed": true
   },
   "outputs": [],
   "source": [
    "result.append(2)"
   ]
  },
  {
   "cell_type": "code",
   "execution_count": null,
   "metadata": {
    "collapsed": true
   },
   "outputs": [],
   "source": [
    "other_result = some_function()"
   ]
  },
  {
   "cell_type": "code",
   "execution_count": null,
   "metadata": {
    "collapsed": false
   },
   "outputs": [],
   "source": [
    "other_result"
   ]
  },
  {
   "cell_type": "markdown",
   "metadata": {},
   "source": [
    "### List comprehension / List Komprehensif"
   ]
  },
  {
   "cell_type": "markdown",
   "metadata": {},
   "source": [
    "\"List comprehension\" adalah penulisan perintah python di dalam suatu list, contohnya sebagai berikut:"
   ]
  },
  {
   "cell_type": "code",
   "execution_count": 8,
   "metadata": {
    "collapsed": false
   },
   "outputs": [
    {
     "data": {
      "text/plain": [
       "[0, 1, 4, 9, 16, 25, 36, 49, 64, 81]"
      ]
     },
     "execution_count": 8,
     "metadata": {},
     "output_type": "execute_result"
    }
   ],
   "source": [
    "# contoh list comprehension, catatan ** adalah operator untuk exponential atau pangkat. Jadi bilangan x dipangkat dengan 2\n",
    "[x ** 2 for x in range(10)]"
   ]
  },
  {
   "cell_type": "code",
   "execution_count": 7,
   "metadata": {
    "collapsed": false
   },
   "outputs": [
    {
     "data": {
      "text/plain": [
       "[0, 1, 4, 9, 16, 25, 36, 49, 64, 81]"
      ]
     },
     "execution_count": 7,
     "metadata": {},
     "output_type": "execute_result"
    }
   ],
   "source": [
    "# perintah diatas \"List Comprehension\" lebih singkat dibanding perintah dibawah ini\n",
    "temp_list = []\n",
    "for x in range(10):\n",
    "    temp_list.append(x ** 2)\n",
    "temp_list"
   ]
  },
  {
   "cell_type": "markdown",
   "metadata": {},
   "source": [
    "### Plotting"
   ]
  },
  {
   "cell_type": "markdown",
   "metadata": {},
   "source": [
    "Sebelum menjalankan perinta dibawah ini, pastikan sudah menginstall module matplotlib, jika menggunakan pip, ketika pip install 'matplotlib', jika menggunakan conda, ketik 'conda install matplotlib'"
   ]
  },
  {
   "cell_type": "code",
   "execution_count": 31,
   "metadata": {
    "collapsed": true
   },
   "outputs": [],
   "source": [
    "%matplotlib inline"
   ]
  },
  {
   "cell_type": "markdown",
   "metadata": {},
   "source": [
    "After the magic, we then need to import the matplotlib library:"
   ]
  },
  {
   "cell_type": "code",
   "execution_count": 32,
   "metadata": {
    "collapsed": true
   },
   "outputs": [],
   "source": [
    "import matplotlib.pyplot as plt"
   ]
  },
  {
   "cell_type": "markdown",
   "metadata": {},
   "source": [
    "Python mempunyai banyak module / package / library yang sudah tersedia\n",
    "\n",
    "Untuk membuat grafik baris, kalian bisa memakai fungsung plt.plot(), dan fungsi ini membutuhkan parameter 1 parameter yaitu y-values (dalam list / banyak nilai y"
   ]
  },
  {
   "cell_type": "code",
   "execution_count": 33,
   "metadata": {
    "collapsed": true
   },
   "outputs": [
    {
     "data": {
      "text/plain": [
       "[<matplotlib.lines.Line2D at 0x7f95c6b640d0>]"
      ]
     },
     "execution_count": 33,
     "metadata": {},
     "output_type": "execute_result"
    },
    {
     "data": {
      "image/png": "[encoded data removed]",
      "text/plain": [
       "<Figure size 432x288 with 1 Axes>"
      ]
     },
     "metadata": {
      "needs_background": "light"
     },
     "output_type": "display_data"
    }
   ],
   "source": [
    "plt.plot([5, 8, 2, 6, 1, 8, 2, 3, 4, 5, 6])"
   ]
  },
  {
   "cell_type": "markdown",
   "metadata": {},
   "source": [
    "Untuk mempelajari lebih lanjut tentang matplotlib, kalian bisa klik link dibawah ini 👇🏻\n",
    "\n",
    "http://matplotlib.org/api/pyplot_api.html\n",
    "\n",
    "Untuk library lain yang sering dipakai di AI / Data-science adalah Math dan Numpy"
   ]
  },
  {
   "cell_type": "markdown",
   "metadata": {},
   "source": [
    "### Closures"
   ]
  },
  {
   "cell_type": "markdown",
   "metadata": {},
   "source": [
    "Adalah fungsi yang mempunya ikatan ke variable lokal di fungsi tersebut, contoh: Closure dibawah mempunya variable object dict, dan mempunya 1 fungsi namanya hidden() dan memiliki 3 parameter."
   ]
  },
  {
   "cell_type": "code",
   "execution_count": 22,
   "metadata": {
    "collapsed": true
   },
   "outputs": [],
   "source": [
    "# menedfinisikan suatu closure\n",
    "def return_a_closure():\n",
    "    dict = {}\n",
    "    def hidden(operator, value, other=None):\n",
    "        if operator == \"add\":\n",
    "            dict[value] = other\n",
    "        else:\n",
    "            return dict[value]\n",
    "    return hidden"
   ]
  },
  {
   "cell_type": "code",
   "execution_count": 25,
   "metadata": {
    "collapsed": true
   },
   "outputs": [],
   "source": [
    "# ketika dipanggil maka akan mengembalikan suatu fungsi lain namanya hidden(), \n",
    "# tapi dari luar kita tidak dapat memanggil fungsi hidden yang ada di dalam fungsi tersebut.\n",
    "# Variable thing akan merujuk di posisi yang sama fungsi hidden tersebut.\n",
    "thing = return_a_closure()"
   ]
  },
  {
   "cell_type": "code",
   "execution_count": 28,
   "metadata": {
    "collapsed": true
   },
   "outputs": [],
   "source": [
    "# Jika kita memamnggil thing() maka kita harus masukkan 3 varible\n",
    "thing(\"add\", \"apple\", 42)"
   ]
  },
  {
   "cell_type": "code",
   "execution_count": 29,
   "metadata": {
    "collapsed": false
   },
   "outputs": [
    {
     "data": {
      "text/plain": [
       "42"
      ]
     },
     "execution_count": 29,
     "metadata": {},
     "output_type": "execute_result"
    }
   ],
   "source": [
    "# Ketika nilai apple ingin di tampilkan\n",
    "thing(\"get\", \"apple\")"
   ]
  },
  {
   "cell_type": "code",
   "execution_count": 30,
   "metadata": {
    "collapsed": false
   },
   "outputs": [
    {
     "ename": "AttributeError",
     "evalue": "'function' object has no attribute 'dict'",
     "output_type": "error",
     "traceback": [
      "\u001b[0;31m---------------------------------------------------------------------------\u001b[0m",
      "\u001b[0;31mAttributeError\u001b[0m                            Traceback (most recent call last)",
      "\u001b[1;32m/Users/zivlab/learning/python/withyoe/day1/Chapter 01 - Introduction to Python.ipynb Cell 121'\u001b[0m in \u001b[0;36m<cell line: 2>\u001b[0;34m()\u001b[0m\n\u001b[1;32m      <a href='vscode-notebook-cell:/Users/zivlab/learning/python/withyoe/day1/Chapter%2001%20-%20Introduction%20to%20Python.ipynb#ch0000119?line=0'>1</a>\u001b[0m \u001b[39m# variable dict di dalam closture tidak dapat kita akses\u001b[39;00m\n\u001b[0;32m----> <a href='vscode-notebook-cell:/Users/zivlab/learning/python/withyoe/day1/Chapter%2001%20-%20Introduction%20to%20Python.ipynb#ch0000119?line=1'>2</a>\u001b[0m thing\u001b[39m.\u001b[39;49mdict\n",
      "\u001b[0;31mAttributeError\u001b[0m: 'function' object has no attribute 'dict'"
     ]
    }
   ],
   "source": [
    "# variable dict di dalam closture tidak dapat kita akses\n",
    "thing.dict"
   ]
  },
  {
   "cell_type": "markdown",
   "metadata": {},
   "source": [
    "\n",
    "Contoh lebih lanjut tentang closure http://www.programiz.com/python-programming/closure"
   ]
  },
  {
   "cell_type": "markdown",
   "metadata": {},
   "source": [
    "<H1>References</H1>\n",
    "\n",
    "[1] https://en.wikipedia.org/wiki/History_of_Python"
   ]
  },
  {
   "cell_type": "markdown",
   "metadata": {},
   "source": []
  }
 ],
 "metadata": {
  "interpreter": {
   "hash": "73bee3515d53dbbd9e6c94862a85b82d5691871328a1a840f6b0af847bab0263"
  },
  "kernelspec": {
   "display_name": "Python 3.9.12 ('withyoe_env')",
   "language": "python",
   "name": "python3"
  },
  "language_info": {
   "codemirror_mode": {
    "name": "ipython",
    "version": 3
   },
   "file_extension": ".py",
   "mimetype": "text/x-python",
   "name": "python",
   "nbconvert_exporter": "python",
   "pygments_lexer": "ipython3",
   "version": "3.9.12"
  }
 },
 "nbformat": 4,
 "nbformat_minor": 0
}
